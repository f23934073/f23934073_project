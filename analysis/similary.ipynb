{
 "cells": [
  {
   "cell_type": "code",
   "execution_count": 26,
   "metadata": {
    "collapsed": true
   },
   "outputs": [],
   "source": [
    "def findSimilarWord(Attraction,TestString):\n",
    "    \n",
    "###先問傳進的東西是不是一樣\n",
    "    if Attraction == TestString:\n",
    "        #print \"This is the samething\"\n",
    "        return 'SAME'\n",
    "    else:\n",
    "        import itertools\n",
    "        import re\n",
    "        \n",
    "###把字串拆開放進List\n",
    "        s1 = Attraction.decode('utf-8')\n",
    "\n",
    "        AttDic=[]\n",
    "        for cnt in range(0,len(s1)):\n",
    "            AttDic.append(s1[cnt])     \n",
    "        s=[]\n",
    "        for i in AttDic:\n",
    "            s.append(i.encode('utf-8'))\n",
    "###判斷輸入的字串長度(2-5個字-->從2個找 ; 6-7個字-->從3個找)\n",
    "        if len(s) <= 7:\n",
    "            xn = 3\n",
    "            if len(s) in range(2,6):\n",
    "                xn = 2\n",
    "###把字串排列組合印出來-->寫到文件\n",
    "        if len(s) in range(2,8):\n",
    "            f = open('string.txt','w')\n",
    "            for num in range(xn,len(s)+1):\n",
    "                for i in list(itertools.permutations(s,num)):\n",
    "                    for u in range(0,num):\n",
    "                        f.write(i[u]+\" \")\n",
    "                    f.write('\\n')\n",
    "            f.close()        \n",
    "###讀取文件--->放到list\n",
    "            dic=[]\n",
    "            f1 = open('string.txt','r')\n",
    "            for line in f1:\n",
    "                dic.append(line.strip())\n",
    "            f1.close()    \n",
    "###另存一個正規化的list\n",
    "            redic=[]\n",
    "            for i in dic:\n",
    "                redic.append('(.*)'+'(.*)'.join(i.split())+'(.*)')\n",
    "###檢視是否match\n",
    "            correctnum = 0\n",
    "            for ele in redic:\n",
    "                if re.match(ele,TestString):\n",
    "                    #print \"match : \"+TestString, \" ; matchRegex is : \"+ele\n",
    "                    correctnum += 1\n",
    "###如果correctnum > 0 (有任何一筆match) 回傳TRUE 反則就是FALSE                    \n",
    "            if correctnum > 0:\n",
    "                return 'TRUE'\n",
    "            else:\n",
    "                return 'FALSE'\n",
    "        else:\n",
    "            #print \"Try insert 2 ~ 7 letters\"\n",
    "            return 'OVER'"
   ]
  },
  {
   "cell_type": "code",
   "execution_count": 27,
   "metadata": {
    "collapsed": false
   },
   "outputs": [],
   "source": [
    "for line in open(\"place1.txt\"):\n",
    "    for linetwo in open(\"place2.txt\"):\n",
    "        if findSimilarWord(line.split(',')[0].strip() , linetwo.split(',')[0].strip()) == \"TRUE\":\n",
    "            print line"
   ]
  },
  {
   "cell_type": "code",
   "execution_count": 96,
   "metadata": {
    "collapsed": false,
    "scrolled": true
   },
   "outputs": [],
   "source": [
    "f = open('apple.txt','w')\n",
    "for line in open(\"place1.txt\"):\n",
    "    dic = []\n",
    "    dic.append(line.strip())\n",
    "    for linetwo in open(\"place2.txt\"):\n",
    "        if findSimilarWord(line.split(',')[0].strip() , linetwo.split(',')[0].strip()) == \"TRUE\":\n",
    "            dic.append(linetwo.strip())\n",
    "    f.write(\"\".join(dic)+\"\\n\")\n",
    "f.close()"
   ]
  },
  {
   "cell_type": "code",
   "execution_count": 97,
   "metadata": {
    "collapsed": false
   },
   "outputs": [],
   "source": [
    "f = open(\"orange.txt\",'w')\n",
    "for line in open('place1.txt'):\n",
    "    dic1 = []\n",
    "    dic1.append(line.strip())\n",
    "    for i in range(0,len(line.strip().split(','))-1):\n",
    "        for linetwo in open('place2.txt'):\n",
    "            if findSimilarWord(line.strip().split(',')[i], linetwo.split(',')[0].strip()) == \"TRUE\":\n",
    "                dic1.append(linetwo.strip())\n",
    "        f.write(\"\".join(dic1)+\"\\n\")\n",
    "        break    \n",
    "f.close()"
   ]
  },
  {
   "cell_type": "code",
   "execution_count": 92,
   "metadata": {
    "collapsed": false
   },
   "outputs": [
    {
     "name": "stdout",
     "output_type": "stream",
     "text": [
      "TRUE\n"
     ]
    }
   ],
   "source": [
    "list1 = []\n",
    "a = '二二八,'\n",
    "b = '101大樓,'\n",
    "c = '二二八'\n",
    "print findSimilarWord(a,c)"
   ]
  },
  {
   "cell_type": "code",
   "execution_count": 142,
   "metadata": {
    "collapsed": false
   },
   "outputs": [],
   "source": [
    "f = open(\"orange.txt\",'a+')\n",
    "for linetwo in open('place2.txt'):\n",
    "    dic = []\n",
    "    for line in open('orange.txt'):\n",
    "        for i in range(0,len(line.strip().split(','))-1):\n",
    "            dic.append(str(linetwo.strip()==line.split(',')[i].strip()+\",\"))\n",
    "    if \"True\" not in \",\".join(dic):\n",
    "        f.write(linetwo.strip()+\"\\n\")\n",
    "f.close()"
   ]
  },
  {
   "cell_type": "code",
   "execution_count": 143,
   "metadata": {
    "collapsed": true
   },
   "outputs": [],
   "source": []
  }
 ],
 "metadata": {
  "kernelspec": {
   "display_name": "Python 2",
   "language": "python",
   "name": "python2"
  },
  "language_info": {
   "codemirror_mode": {
    "name": "ipython",
    "version": 2
   },
   "file_extension": ".py",
   "mimetype": "text/x-python",
   "name": "python",
   "nbconvert_exporter": "python",
   "pygments_lexer": "ipython2",
   "version": "2.7.11"
  }
 },
 "nbformat": 4,
 "nbformat_minor": 0
}
